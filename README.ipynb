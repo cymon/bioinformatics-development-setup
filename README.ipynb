{
 "cells": [
  {
   "cell_type": "markdown",
   "metadata": {},
   "source": [
    "### General setup\n",
    "\n",
    "Install git:\n",
    "\n",
    "```bash\n",
    "    $ sudo pip install git\n",
    "```\n",
    "\n",
    "Install poetry system-wide using pipx:\n",
    "\n",
    "```bash\n",
    "    $ sudo pip install pipx\n",
    "    $ pipx install poetry\n",
    "```\n"
   ]
  },
  {
   "cell_type": "markdown",
   "metadata": {},
   "source": [
    "## Setting up a new project"
   ]
  },
  {
   "cell_type": "markdown",
   "metadata": {},
   "source": [
    "### Initialise the project using poetry\n",
    "\n",
    "  ```bash\n",
    "  $ poetry config virtualenvs.in-project true\n",
    "  $ poetry config virtualenvs.prompt \"(.venv)\"\n",
    "  $ poetry init\n",
    "  $ poetry config --list\n",
    "  ```\n",
    "  ```python\n",
    "  cache-dir = \"/home/cymon/.cache/pypoetry\"\n",
    "  experimental.system-git-client = false\n",
    "  installer.max-workers = null\n",
    "  installer.modern-installation = true\n",
    "  installer.no-binary = null\n",
    "  installer.parallel = true\n",
    "  keyring.enabled = true\n",
    "  solver.lazy-wheel = true\n",
    "  virtualenvs.create = true\n",
    "  virtualenvs.in-project = true\n",
    "  virtualenvs.options.always-copy = false\n",
    "  virtualenvs.options.no-pip = false\n",
    "  virtualenvs.options.no-setuptools = false\n",
    "  virtualenvs.options.system-site-packages = false\n",
    "  virtualenvs.path = \"{cache-dir}/virtualenvs\"  # /home/cymon/.cache/pypoetry/virtualenvs\n",
    "  virtualenvs.prefer-active-python = false\n",
    "  virtualenvs.prompt = \"(.venv)\"\n",
    "  warnings.export = true\n",
    "  ```"
   ]
  },
  {
   "cell_type": "markdown",
   "metadata": {},
   "source": [
    "### Add the \"black\" linter and \"pre-commit\" to the project\n",
    "  \n",
    "  ```bash\n",
    "  $ poetry add black --group dev\n",
    "  $ poetry add pre-commit --group dev\n",
    "  $ cat pyproject.toml\n",
    "  ```\n",
    "  ```toml\n",
    "  \n",
    "  [tool.poetry]\n",
    "  name = \"bioinformatics-development-setup\"\n",
    "  version = \"0.1.0\"\n",
    "  description = \"A basic development environment for bioinformatics\"\n",
    "  authors = [\"Cymon J. Cox <cymon.cox@googlemail.com>\"]\n",
    "  license = \"MIT\"\n",
    "  readme = \"README.ipynb\"\n",
    "\n",
    "  [tool.poetry.dependencies]\n",
    "  python = \"^3.10\"\n",
    "\n",
    "  [tool.poetry.group.dev.dependencies]\n",
    "  black = \"^24.8.0\"\n",
    "  pre-commit = \"^3.8.0\"\n",
    "\n",
    "  [build-system]\n",
    "  requires = [\"poetry-core\"]\n",
    "  build-backend = \"poetry.core.masonry.api\"\n",
    "  ```"
   ]
  },
  {
   "cell_type": "markdown",
   "metadata": {},
   "source": [
    "### Setup \"pre-commit\" hooks to linters\n",
    "\n"
   ]
  }
 ],
 "metadata": {
  "language_info": {
   "name": "python"
  }
 },
 "nbformat": 4,
 "nbformat_minor": 2
}
